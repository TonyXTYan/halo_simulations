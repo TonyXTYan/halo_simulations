{
 "cells": [
  {
   "cell_type": "markdown",
   "id": "aed2b3be-6eaf-493c-8e4c-6c3ffc06cef5",
   "metadata": {},
   "source": [
    "# One Particle"
   ]
  },
  {
   "cell_type": "code",
   "execution_count": 4,
   "id": "95f3fafb-7cfb-419f-935b-73f08447e6ea",
   "metadata": {},
   "outputs": [
    {
     "name": "stdout",
     "output_type": "stream",
     "text": [
      "Python 3.11.8\n"
     ]
    }
   ],
   "source": [
    "!python -V"
   ]
  },
  {
   "cell_type": "code",
   "execution_count": 20,
   "id": "9a2b79dd-209b-4a67-b03c-91f9bd881054",
   "metadata": {},
   "outputs": [],
   "source": [
    "import matplotlib.pyplot as plt\n",
    "import numpy as np\n",
    "from math import *\n",
    "from uncertainties import *\n",
    "from scipy.stats import chi2\n",
    "import scipy\n",
    "from matplotlib import gridspec\n",
    "import matplotlib\n",
    "import pandas\n",
    "import sys\n",
    "import statsmodels.api as sm\n",
    "import warnings ## statsmodels.api is too old ... -_-#\n",
    "\n",
    "import pickle\n",
    "import pgzip\n",
    "import os\n",
    "import platform\n",
    "\n",
    "from joblib import Parallel, delayed\n",
    "from tqdm.notebook import tqdm\n",
    "from datetime import datetime\n",
    "\n",
    "import pyfftw\n",
    "\n",
    "%config InlineBackend.figure_format = 'retina'\n",
    "%matplotlib inline\n",
    "plt.rcParams[\"figure.figsize\"] = (8, 5)\n",
    "plt.rcParams[\"font.family\"] = \"serif\" \n",
    "plt.rcParams[\"mathtext.fontset\"] = \"dejavuserif\" \n",
    "plt.close(\"all\") # close all existing matplotlib plots"
   ]
  },
  {
   "cell_type": "code",
   "execution_count": 7,
   "id": "7496c132-40b3-461b-9a38-c514d1ec1f80",
   "metadata": {},
   "outputs": [
    {
     "name": "stdout",
     "output_type": "stream",
     "text": [
      "zmax = 26\n",
      "(dx,dz) = (0.2, 0.5777777777777777)\n",
      "rotate phase = 0.04579889423076923j\n",
      "pxmax = 1005.2518680100052\n",
      "pzmax = 352.98920556076513\n",
      "0.024 million grid points\n",
      "0.0 minutes/grid_op (for 1μs/element_op)\n"
     ]
    }
   ],
   "source": [
    "nx = 260+1\n",
    "nz = 90+1\n",
    "xmax = 26 #Micrometers\n",
    "# zmax = (nz/nx)*xmax\n",
    "zmax = 26\n",
    "dt = 5e-4 # Milliseconds\n",
    "dx = 2*xmax/(nx-1)\n",
    "dz = 2*zmax/(nz-1)\n",
    "hb = 63.5078 #(\"AtomicMassUnit\" (\"Micrometers\")^2)/(\"Milliseconds\")\n",
    "m3 = 3   # AtomicMassUnit\n",
    "m4 = 4 \n",
    "\n",
    "print(\"zmax =\", zmax)\n",
    "print(\"(dx,dz) =\", (dx, dz) ) \n",
    "print(\"rotate phase =\", 1j*hb*dt/(2*m3*dx*dz)) #want this to be small\n",
    "\n",
    "pxmax= (nx+1)/2 * 2*pi/(2*xmax)*hb # want this to be greater than p\n",
    "pzmax= (nz+1)/2 * 2*pi/(2*zmax)*hb\n",
    "print(\"pxmax =\", pxmax)\n",
    "print(\"pzmax =\", pzmax)\n",
    "\n",
    "print(round(nx*nz/1000/1000,3),\"million grid points\")\n",
    "print(round((nx*nz)*0.001*0.001/60, 2),\"minutes/grid_op (for 1μs/element_op)\")"
   ]
  },
  {
   "cell_type": "code",
   "execution_count": 30,
   "id": "76f9a4f3-5d2f-45cd-a4dc-e243b1d528ec",
   "metadata": {},
   "outputs": [
    {
     "name": "stdout",
     "output_type": "stream",
     "text": [
      "output/oneParticleSim/20240416-135603-FFT/\n"
     ]
    }
   ],
   "source": [
    "use_cache = False\n",
    "save_cache = False\n",
    "save_debug = True \n",
    "\n",
    "datetime_init = datetime.now()\n",
    "\n",
    "# os.makedirs('output/oneParticleSim', exist_ok=True)\n",
    "output_prefix = \"output/oneParticleSim/\"+\\\n",
    "                datetime_init.strftime(\"%Y%m%d-%H%M%S\") + \"-\" + \\\n",
    "                str(\"T\" if use_cache else \"F\") + \\\n",
    "                str(\"T\" if save_cache else \"F\") + \\\n",
    "                str(\"T\" if save_debug else \"F\") + \\\n",
    "                \"/\"\n",
    "output_ext = \".pgz.pkl\"\n",
    "os.makedirs(output_prefix, exist_ok=True)\n",
    "print(output_prefix)"
   ]
  },
  {
   "cell_type": "code",
   "execution_count": 31,
   "id": "15fee51b-3ea8-4b55-9e81-7f9392ce4458",
   "metadata": {},
   "outputs": [],
   "source": [
    "if save_debug:\n",
    "    with open(output_prefix + \"session_info.txt\", \"wt\") as file:\n",
    "        string = \"\"\n",
    "        string += (\"=\"*20 + \"Session System Information\" + \"=\"*20) + \"\\n\"\n",
    "        uname = platform.uname()\n",
    "        string +=  f\"Python Version: {platform.python_version()}\\n\"\n",
    "        string +=  f\"Platform: {platform.platform()}\\n\"\n",
    "        string += (f\"System: {uname.system}\")+ \"\\n\"\n",
    "        string += (f\"Node Name: {uname.node}\")+ \"\\n\"\n",
    "        string += (f\"Release: {uname.release}\")+ \"\\n\"\n",
    "        string += (f\"Version: {uname.version}\")+ \"\\n\"\n",
    "        string += (f\"Machine: {uname.machine}\")+ \"\\n\"\n",
    "        string += (f\"Processor: {uname.processor}\")+ \"\\n\"\n",
    "        string +=  f\"CPU Counts: {os.cpu_count()} \\n\"\n",
    "    #     print(string)\n",
    "        file.write(string)"
   ]
  },
  {
   "cell_type": "code",
   "execution_count": 32,
   "id": "16ca52f2-0b81-4dc7-be68-bac2d28ddc4c",
   "metadata": {},
   "outputs": [
    {
     "name": "stdout",
     "output_type": "stream",
     "text": [
      "k = 4.102384984449092  is 45 degree Bragg\n",
      "k  = 3.9269908169872414 1/µm\n",
      "p  = 498.78909481412467 u*µm/ms\n",
      "v3 = 83.13151580235412 µm/ms\n",
      "v4 = 62.34863685176558 µm/ms\n",
      "The history saving thread hit an unexpected error (OperationalError('attempt to write a readonly database')).History will not be written to the database.\n"
     ]
    },
    {
     "ename": "AssertionError",
     "evalue": "momentum resolution too small",
     "output_type": "error",
     "traceback": [
      "\u001b[0;31m---------------------------------------------------------------------------\u001b[0m",
      "\u001b[0;31mAssertionError\u001b[0m                            Traceback (most recent call last)",
      "Cell \u001b[0;32mIn[32], line 19\u001b[0m\n\u001b[1;32m     15\u001b[0m \u001b[38;5;28mprint\u001b[39m(\u001b[38;5;124m\"\u001b[39m\u001b[38;5;124mv4 =\u001b[39m\u001b[38;5;124m\"\u001b[39m,v4, \u001b[38;5;124m\"\u001b[39m\u001b[38;5;124mµm/ms\u001b[39m\u001b[38;5;124m\"\u001b[39m)\n\u001b[1;32m     17\u001b[0m \u001b[38;5;66;03m# sanity check\u001b[39;00m\n\u001b[1;32m     18\u001b[0m \u001b[38;5;66;03m# assert (pxmax > p*2.5 or pzmax > p*2.5), \"momentum resolution too small\"\u001b[39;00m\n\u001b[0;32m---> 19\u001b[0m \u001b[38;5;28;01massert\u001b[39;00m (pxmax \u001b[38;5;241m>\u001b[39m p\u001b[38;5;241m*\u001b[39m\u001b[38;5;241m2.5\u001b[39m), \u001b[38;5;124m\"\u001b[39m\u001b[38;5;124mmomentum resolution too small\u001b[39m\u001b[38;5;124m\"\u001b[39m\n",
      "\u001b[0;31mAssertionError\u001b[0m: momentum resolution too small"
     ]
    }
   ],
   "source": [
    "wavelength = 1.083 #Micrometers\n",
    "k = (1/sqrt(2)) * 2*pi / wavelength # effective wavelength\n",
    "print(\"k =\", k, \" is 45 degree Bragg\")\n",
    "# k = 2*pi / wavelength\n",
    "# k = pi / (2*dz)\n",
    "k = pi / (4*dx)\n",
    "# dopd = 60.1025 # 1/ms Doppler detuning (?)\n",
    "\n",
    "p = 2*hb*k\n",
    "print(\"k  =\",k,\"1/µm\")\n",
    "print(\"p  =\",p, \"u*µm/ms\")\n",
    "v4 = hb*k/m4\n",
    "v3 = hb*k/m3\n",
    "print(\"v3 =\",v3, \"µm/ms\")\n",
    "print(\"v4 =\",v4, \"µm/ms\")\n",
    "\n",
    "# sanity check\n",
    "# assert (pxmax > p*2.5 or pzmax > p*2.5), \"momentum resolution too small\"\n",
    "assert (pxmax > p*2.5), \"momentum resolution too small\""
   ]
  },
  {
   "cell_type": "code",
   "execution_count": null,
   "id": "2e66f30f-53ca-47f7-89de-235811eb0c95",
   "metadata": {},
   "outputs": [],
   "source": []
  },
  {
   "cell_type": "code",
   "execution_count": null,
   "id": "f8ef78d7-0c28-4678-9350-51defdcdc4ee",
   "metadata": {},
   "outputs": [],
   "source": []
  },
  {
   "cell_type": "code",
   "execution_count": null,
   "id": "5fa1f13b-43c9-4b94-8d2e-e95223236087",
   "metadata": {},
   "outputs": [],
   "source": []
  },
  {
   "cell_type": "code",
   "execution_count": null,
   "id": "c7a0158c-7839-4f5f-ab67-2ab695370f34",
   "metadata": {},
   "outputs": [],
   "source": []
  },
  {
   "cell_type": "code",
   "execution_count": null,
   "id": "051b012a-f525-475c-9e90-2f1ff0e7f0cc",
   "metadata": {},
   "outputs": [],
   "source": []
  },
  {
   "cell_type": "code",
   "execution_count": null,
   "id": "b3a4d72f-0af7-4b07-9bbc-0a465c8137a1",
   "metadata": {},
   "outputs": [],
   "source": []
  },
  {
   "cell_type": "code",
   "execution_count": null,
   "id": "95a750c5-b1da-455b-b2ca-0107c4aa60e1",
   "metadata": {},
   "outputs": [],
   "source": []
  },
  {
   "cell_type": "code",
   "execution_count": null,
   "id": "3a97039c-6af5-47e5-9240-77dc4461715f",
   "metadata": {},
   "outputs": [],
   "source": []
  },
  {
   "cell_type": "code",
   "execution_count": null,
   "id": "8031518c-b4d5-452a-88be-9a1b2010d8b8",
   "metadata": {},
   "outputs": [],
   "source": []
  },
  {
   "cell_type": "code",
   "execution_count": null,
   "id": "4197cad8-4779-4fb3-af5e-974c2f0dc1d6",
   "metadata": {},
   "outputs": [],
   "source": []
  },
  {
   "cell_type": "code",
   "execution_count": null,
   "id": "67e003b5-5e5c-4f5f-97e5-6a523f46b8ed",
   "metadata": {},
   "outputs": [],
   "source": []
  },
  {
   "cell_type": "code",
   "execution_count": null,
   "id": "0b4a8174-72b3-4d42-86b3-3b1eabbaa495",
   "metadata": {},
   "outputs": [],
   "source": []
  },
  {
   "cell_type": "code",
   "execution_count": null,
   "id": "e7500c65-45b6-401b-baf5-282ae13d3fef",
   "metadata": {},
   "outputs": [],
   "source": []
  },
  {
   "cell_type": "code",
   "execution_count": null,
   "id": "97e9aef0-11d2-4c1c-b40c-d23d23e8b8c2",
   "metadata": {},
   "outputs": [],
   "source": []
  },
  {
   "cell_type": "code",
   "execution_count": null,
   "id": "648a8bf1-b39f-4d8f-8d28-e161f8ac0d7a",
   "metadata": {},
   "outputs": [],
   "source": []
  }
 ],
 "metadata": {
  "kernelspec": {
   "display_name": "Python 3 (ipykernel)",
   "language": "python",
   "name": "python3"
  },
  "language_info": {
   "codemirror_mode": {
    "name": "ipython",
    "version": 3
   },
   "file_extension": ".py",
   "mimetype": "text/x-python",
   "name": "python",
   "nbconvert_exporter": "python",
   "pygments_lexer": "ipython3",
   "version": "3.11.8"
  }
 },
 "nbformat": 4,
 "nbformat_minor": 5
}
